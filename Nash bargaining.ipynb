{
 "cells": [
  {
   "cell_type": "code",
   "execution_count": 1,
   "metadata": {},
   "outputs": [],
   "source": [
    "import pandas as pd\n",
    "import numpy as np\n",
    "import os.path as ospath"
   ]
  },
  {
   "cell_type": "code",
   "execution_count": 9,
   "metadata": {},
   "outputs": [],
   "source": [
    "excelfile = ospath.join('..','Serious games','Games','БД4_Лёгкая.xlsm')\n",
    "\n",
    "Alldata = pd.read_excel(excelfile,sheet_name='Данные')\n",
    "Games = pd.read_excel(excelfile,sheet_name='Игры')\n",
    "print(Alldata.columns)\n",
    "Games.columns"
   ]
  },
  {
   "cell_type": "code",
   "execution_count": 11,
   "metadata": {},
   "outputs": [],
   "source": [
    "YHGames=Games[(Games.Mechname=='yh') & (Games.GameMech=='agree')]\n",
    "YHExpGames=Games[(Games.Mechname=='yh') & (Games.GameMech=='exp')]\n",
    "\n",
    "YHData=Alldata[Alldata.Game.isin(YHGames.Game)]\n",
    "YHEData=Alldata[Alldata.Game.isin(YHExpGames.Game)]"
   ]
  },
  {
   "cell_type": "code",
   "execution_count": 13,
   "metadata": {},
   "outputs": [
    {
     "name": "stdout",
     "output_type": "stream",
     "text": [
      "(1035, 16) (75, 16)\n"
     ]
    }
   ],
   "source": [
    "print(YHData.shape,YHEData.shape)"
   ]
  },
  {
   "cell_type": "code",
   "execution_count": 85,
   "metadata": {},
   "outputs": [],
   "source": [
    "GLGames=Games[(Games.Mechname=='gl') & (Games.GameMech=='agree')]\n",
    "GLData=Alldata[Alldata.Game.isin(GLGames.Game)]\n",
    "\n",
    "GLEGames=Games[(Games.Mechname=='gl') & (Games.GameMech=='exp')]\n",
    "GLEData=Alldata[Alldata.Game.isin(GLEGames.Game)]"
   ]
  },
  {
   "cell_type": "code",
   "execution_count": 86,
   "metadata": {},
   "outputs": [
    {
     "data": {
      "text/plain": [
       "(2847, 16)"
      ]
     },
     "execution_count": 86,
     "metadata": {},
     "output_type": "execute_result"
    }
   ],
   "source": [
    "GLData.shape"
   ]
  },
  {
   "cell_type": "markdown",
   "metadata": {},
   "source": [
    "## Нэш-торги"
   ]
  },
  {
   "cell_type": "code",
   "execution_count": 20,
   "metadata": {},
   "outputs": [],
   "source": [
    "YHg=YHData.groupby(['Game','Time'])"
   ]
  },
  {
   "cell_type": "code",
   "execution_count": 53,
   "metadata": {},
   "outputs": [],
   "source": [
    "YHg.sum();"
   ]
  },
  {
   "cell_type": "markdown",
   "metadata": {},
   "source": [
    "### Функции расчёта выигрышей в игре"
   ]
  },
  {
   "cell_type": "code",
   "execution_count": 14,
   "metadata": {},
   "outputs": [],
   "source": [
    "class Game:\n",
    "    import numpy as np\n",
    "    def __init__(self,R,s0,types):\n",
    "        self.R = R\n",
    "        self.s0 = np.array(s0)\n",
    "        self.n = len(s0)\n",
    "        self.types = np.array(types)\n",
    "    def u(self,x):\n",
    "        return self.np.sqrt(self.types+x)\n",
    "game = Game( 115,(115/3,115/3,115/3), (1,9,25))\n",
    "\n",
    "class Mechanism:\n",
    "    def __init__(self,game,params,xfunc,tfunc):\n",
    "        self.game = game\n",
    "        for k,v in params.items():\n",
    "            setattr(self,k,v)\n",
    "        self.xfunc = xfunc\n",
    "        self.tfunc = tfunc\n",
    "        \n",
    "    def x(self,s):\n",
    "        return self.xfunc(s,self.game)\n",
    "    def t(self,s):\n",
    "        return self.tfunc(s,self.game,self)\n",
    "    def f(self,s):\n",
    "        return game.u(self.x(s))-self.t(s)\n",
    "\n",
    "YHMechanism = Mechanism(game,\n",
    "                        {'beta':0.0005}, \n",
    "                        lambda s,g: s*g.R/s.sum(),\n",
    "                        lambda s,g,m: m.beta*s*(np.repeat(s.sum(),3)-s))\n",
    "\n",
    "class GLClass:\n",
    "    from scipy.spatial import distance\n",
    "    def __init__(self):\n",
    "        self.glx = lambda s,g: s.sum(axis=0) / g.n\n",
    "    def glt(self,s,g,m):\n",
    "        p = m.beta * self.distance.cdist([self.glx(s,g)],s,'sqeuclidean')\n",
    "        pmean = m.alfa * p.mean()\n",
    "        return p - pmean\n",
    "GL = GLClass()\n",
    "    \n",
    "GLMechanism = Mechanism(game,{'beta':0.0005,'alfa':1},\n",
    "                        GL.glx,\n",
    "                        GL.glt\n",
    "                       )"
   ]
  },
  {
   "cell_type": "code",
   "execution_count": 17,
   "metadata": {},
   "outputs": [
    {
     "name": "stdout",
     "output_type": "stream",
     "text": [
      "0.0005\n",
      "[0.072 1.624 1.648]\n"
     ]
    },
    {
     "data": {
      "text/plain": [
       "array([1.39040003, 5.22828395, 8.39727704])"
      ]
     },
     "execution_count": 17,
     "metadata": {},
     "output_type": "execute_result"
    }
   ],
   "source": [
    "print(YHMechanism.beta)\n",
    "s = np.array([1.2,40,80])\n",
    "print(YHMechanism.t(s))\n",
    "YHMechanism.f(s)"
   ]
  },
  {
   "cell_type": "code",
   "execution_count": 18,
   "metadata": {},
   "outputs": [
    {
     "name": "stdout",
     "output_type": "stream",
     "text": [
      "[38.33333333 38.33333333 38.33333333]\n",
      "[1. 3. 5.]\n"
     ]
    },
    {
     "data": {
      "text/plain": [
       "-554.9999999999999"
      ]
     },
     "execution_count": 18,
     "metadata": {},
     "output_type": "execute_result"
    }
   ],
   "source": [
    "def Unash(f,f0):\n",
    "    df = f-f0\n",
    "    return (np.fabs(df)).prod() * np.min(np.sign(df))\n",
    "\n",
    "print(YHMechanism.game.s0)\n",
    "\n",
    "f0 = YHMechanism.game.u([0,0,0])\n",
    "print(f0)\n",
    "\n",
    "Unash(f0,s)"
   ]
  },
  {
   "cell_type": "markdown",
   "metadata": {},
   "source": [
    "### Цикл получения исходных данных для Нэш-торгов"
   ]
  },
  {
   "cell_type": "code",
   "execution_count": 35,
   "metadata": {},
   "outputs": [],
   "source": [
    "import itertools\n",
    "res = []\n",
    "for name,group in YHg:\n",
    "    group = group.sort_values(by='GrSubject')\n",
    "    if name[1] == 1 :\n",
    "        curname = name[0]\n",
    "        prevg = group\n",
    "        continue\n",
    "    \n",
    "    fprev = prevg['Gain'].values\n",
    "    sprev = prevg['s2'].values\n",
    "    s = group['s2'].values\n",
    "    s1, s2, s3 = sprev.copy(), sprev.copy(), sprev.copy()\n",
    "    s1[0] = s[0]\n",
    "    s2[1] = s[1]\n",
    "    s3[2] = s[2]\n",
    "    f1 = YHMechanism.f(s1)\n",
    "    f2 = YHMechanism.f(s2)\n",
    "    f3 = YHMechanism.f(s3)\n",
    "    U = Unash(fprev,f0)\n",
    "    U1 = Unash(f1,f0)\n",
    "    U2 = Unash(f2,f0)\n",
    "    U3 = Unash(f3,f0)\n",
    "    Unew = Unash(YHMechanism.f(s),f0)\n",
    "    res.append( [a for a in itertools.chain(name,[U1>U,U2>U,U3>U,Unew>U,U,U1,U2,U3,Unew],s)] )\n",
    "    prevg = group\n",
    "    #print(name,prev['Gain'])"
   ]
  },
  {
   "cell_type": "code",
   "execution_count": 52,
   "metadata": {},
   "outputs": [],
   "source": [
    "a = np.vstack(res)\n",
    "data_a = pd.DataFrame(a); data_a;"
   ]
  },
  {
   "cell_type": "code",
   "execution_count": 45,
   "metadata": {},
   "outputs": [],
   "source": [
    "pda = data_a[[2,3,4,5]]\n",
    "pdaPar = data_a[data_a[6]>0][[2,3,4,5]]"
   ]
  },
  {
   "cell_type": "markdown",
   "metadata": {},
   "source": [
    "## YH"
   ]
  },
  {
   "cell_type": "markdown",
   "metadata": {},
   "source": [
    "Игры с механизмом YH и механизмом остановки \"по договорённости\" - никто не поменял заявок.\n",
    "Всего шагов 1035, если брать для каждого игрока в отдельности, то 3105 = 1035 * 3\n",
    "\n",
    "Функция Нэша: $ U(f,f^0)=\\prod_{i} (f_i -f_i^0)') $"
   ]
  },
  {
   "cell_type": "markdown",
   "metadata": {},
   "source": [
    "Базовые выигрыши: $ f^0 = u(0,0,0) $"
   ]
  },
  {
   "cell_type": "markdown",
   "metadata": {},
   "source": [
    "Определения для текущего шага $t>1$: $$ U_{prev} = U(f(s^{t-1}),f^0)') $$\n",
    "$$ U_i =U(f(s_i^t,s_{-i}^{t-1}),f^0) $$\n",
    "$$ U_{new}=U(f(s^t),f^0) $$"
   ]
  },
  {
   "cell_type": "code",
   "execution_count": 36,
   "metadata": {},
   "outputs": [],
   "source": [
    "def Nash_stat(data):\n",
    "    a = (data[data>0].count()).values\n",
    "    return [a[0],a[1],a[2],data[(data[2]*data[3]*data[4]==1)].shape[0],\n",
    "                                       data[data[2]*data[3]*data[4]*data[5]==1].shape[0],\n",
    "                                       data[data[5]==1].shape[0],data[(data[5]==1) & (data[2]*data[3]*data[4]==0)].shape[0],\n",
    "                                       data[(data[5]==1) & (data[2]+data[3]+data[4]==0)].shape[0]\n",
    "                                       ]"
   ]
  },
  {
   "cell_type": "code",
   "execution_count": 37,
   "metadata": {},
   "outputs": [
    {
     "data": {
      "text/html": [
       "<div>\n",
       "<style scoped>\n",
       "    .dataframe tbody tr th:only-of-type {\n",
       "        vertical-align: middle;\n",
       "    }\n",
       "\n",
       "    .dataframe tbody tr th {\n",
       "        vertical-align: top;\n",
       "    }\n",
       "\n",
       "    .dataframe thead th {\n",
       "        text-align: right;\n",
       "    }\n",
       "</style>\n",
       "<table border=\"1\" class=\"dataframe\">\n",
       "  <thead>\n",
       "    <tr style=\"text-align: right;\">\n",
       "      <th></th>\n",
       "      <th>Критерии</th>\n",
       "      <th>Число подходящих ходов</th>\n",
       "      <th>Число подх. ходов Uprev&gt;0</th>\n",
       "    </tr>\n",
       "  </thead>\n",
       "  <tbody>\n",
       "    <tr>\n",
       "      <th>0</th>\n",
       "      <td>U1 &gt; Uprev</td>\n",
       "      <td>172</td>\n",
       "      <td>148</td>\n",
       "    </tr>\n",
       "    <tr>\n",
       "      <th>1</th>\n",
       "      <td>U2 &gt; Uprev</td>\n",
       "      <td>181</td>\n",
       "      <td>155</td>\n",
       "    </tr>\n",
       "    <tr>\n",
       "      <th>2</th>\n",
       "      <td>U3 &gt; Uprev</td>\n",
       "      <td>189</td>\n",
       "      <td>162</td>\n",
       "    </tr>\n",
       "    <tr>\n",
       "      <th>3</th>\n",
       "      <td>U1&gt;Uprev &amp; U2&gt;Uprev &amp; U3&gt;Uprev</td>\n",
       "      <td>64</td>\n",
       "      <td>58</td>\n",
       "    </tr>\n",
       "    <tr>\n",
       "      <th>4</th>\n",
       "      <td>U1&gt;Uprev &amp; U2&gt;Uprev &amp; U3&gt;Uprev &amp; Unew &gt; Uprev</td>\n",
       "      <td>64</td>\n",
       "      <td>58</td>\n",
       "    </tr>\n",
       "    <tr>\n",
       "      <th>5</th>\n",
       "      <td>Unew &gt; Uprev</td>\n",
       "      <td>167</td>\n",
       "      <td>127</td>\n",
       "    </tr>\n",
       "    <tr>\n",
       "      <th>6</th>\n",
       "      <td>Unew &gt; Uprev &amp; Exist Ui &lt; Uprev</td>\n",
       "      <td>103</td>\n",
       "      <td>69</td>\n",
       "    </tr>\n",
       "    <tr>\n",
       "      <th>7</th>\n",
       "      <td>Unew &gt; Uprev &amp; All Ui &lt; Uprev</td>\n",
       "      <td>1</td>\n",
       "      <td>0</td>\n",
       "    </tr>\n",
       "  </tbody>\n",
       "</table>\n",
       "</div>"
      ],
      "text/plain": [
       "                                        Критерии  Число подходящих ходов  \\\n",
       "0                                     U1 > Uprev                     172   \n",
       "1                                     U2 > Uprev                     181   \n",
       "2                                     U3 > Uprev                     189   \n",
       "3                 U1>Uprev & U2>Uprev & U3>Uprev                      64   \n",
       "4  U1>Uprev & U2>Uprev & U3>Uprev & Unew > Uprev                      64   \n",
       "5                                   Unew > Uprev                     167   \n",
       "6                Unew > Uprev & Exist Ui < Uprev                     103   \n",
       "7                  Unew > Uprev & All Ui < Uprev                       1   \n",
       "\n",
       "   Число подх. ходов Uprev>0  \n",
       "0                        148  \n",
       "1                        155  \n",
       "2                        162  \n",
       "3                         58  \n",
       "4                         58  \n",
       "5                        127  \n",
       "6                         69  \n",
       "7                          0  "
      ]
     },
     "execution_count": 37,
     "metadata": {},
     "output_type": "execute_result"
    }
   ],
   "source": [
    "pd.DataFrame({'Критерии':['U1 > Uprev','U2 > Uprev','U3 > Uprev','U1>Uprev & U2>Uprev & U3>Uprev',\n",
    "                          'U1>Uprev & U2>Uprev & U3>Uprev & Unew > Uprev','Unew > Uprev',\n",
    "                          'Unew > Uprev & Exist Ui < Uprev','Unew > Uprev & All Ui < Uprev'],\n",
    "              'Число подходящих ходов':Nash_stat(pda),\n",
    "              'Число подх. ходов Uprev>0':Nash_stat(pdaPar)\n",
    "             })"
   ]
  },
  {
   "cell_type": "code",
   "execution_count": 26,
   "metadata": {},
   "outputs": [],
   "source": [
    "datafile = ospath.join('..','Serious games','data.csv')\n",
    "\n",
    "brdata = pd.read_csv(datafile,header=None)\n",
    "\n",
    "brdata.columns=['game','time','g1','g2','g3','br1','br2','br3']\n",
    "\n",
    "jdata=pd.concat([data_a, brdata], axis=1, join='inner')"
   ]
  },
  {
   "cell_type": "code",
   "execution_count": 49,
   "metadata": {},
   "outputs": [],
   "source": [
    "def BR_stat(data):\n",
    "    return [data[(data['g1']>0)&(data['g1']<=1)].shape[0]+\n",
    "            data[(data['g2']>0)&(data['g2']<=1)].shape[0]+\n",
    "            data[(data['g3']>0)&(data['g3']<=1)].shape[0],\n",
    "            data[(data['g1']>0)].shape[0]+\n",
    "            data[(data['g2']>0)].shape[0]+\n",
    "            data[(data['g3']>0)].shape[0],\n",
    "            data[data['g1']==1].shape[0]+\n",
    "            data[data['g2']==1].shape[0]+\n",
    "            data[data['g3']==1].shape[0],\n",
    "            data[(data['g1']>=0.9)&(data['g1']<=1.1)].shape[0]+\n",
    "            data[(data['g2']>=0.9)&(data['g2']<=1.1)].shape[0]+\n",
    "            data[(data['g3']>=0.9)&(data['g3']<=1.1)].shape[0],\n",
    "            data[(data['g1']>=0.8)&(data['g1']<=1.2)].shape[0]+\n",
    "            data[(data['g2']>=0.8)&(data['g2']<=1.2)].shape[0]+\n",
    "            data[(data['g3']>=0.8)&(data['g3']<=1.2)].shape[0],\n",
    "                                       ]"
   ]
  },
  {
   "cell_type": "code",
   "execution_count": 51,
   "metadata": {},
   "outputs": [
    {
     "data": {
      "text/html": [
       "<div>\n",
       "<style scoped>\n",
       "    .dataframe tbody tr th:only-of-type {\n",
       "        vertical-align: middle;\n",
       "    }\n",
       "\n",
       "    .dataframe tbody tr th {\n",
       "        vertical-align: top;\n",
       "    }\n",
       "\n",
       "    .dataframe thead th {\n",
       "        text-align: right;\n",
       "    }\n",
       "</style>\n",
       "<table border=\"1\" class=\"dataframe\">\n",
       "  <thead>\n",
       "    <tr style=\"text-align: right;\">\n",
       "      <th></th>\n",
       "      <th>Критерии</th>\n",
       "      <th>Число подходящих ходов</th>\n",
       "    </tr>\n",
       "  </thead>\n",
       "  <tbody>\n",
       "    <tr>\n",
       "      <th>0</th>\n",
       "      <td>IB</td>\n",
       "      <td>296</td>\n",
       "    </tr>\n",
       "    <tr>\n",
       "      <th>1</th>\n",
       "      <td>IB+</td>\n",
       "      <td>442</td>\n",
       "    </tr>\n",
       "    <tr>\n",
       "      <th>2</th>\n",
       "      <td>BR(0)</td>\n",
       "      <td>0</td>\n",
       "    </tr>\n",
       "    <tr>\n",
       "      <th>3</th>\n",
       "      <td>BR(0.1)</td>\n",
       "      <td>36</td>\n",
       "    </tr>\n",
       "    <tr>\n",
       "      <th>4</th>\n",
       "      <td>BR(0.2)</td>\n",
       "      <td>59</td>\n",
       "    </tr>\n",
       "  </tbody>\n",
       "</table>\n",
       "</div>"
      ],
      "text/plain": [
       "  Критерии  Число подходящих ходов\n",
       "0       IB                     296\n",
       "1      IB+                     442\n",
       "2    BR(0)                       0\n",
       "3  BR(0.1)                      36\n",
       "4  BR(0.2)                      59"
      ]
     },
     "execution_count": 51,
     "metadata": {},
     "output_type": "execute_result"
    }
   ],
   "source": [
    "pd.DataFrame({'Критерии':['IB','IB+','BR(0)','BR(0.1)','BR(0.2)'],\n",
    "              'Число подходящих ходов':BR_stat(jdata),\n",
    "             })"
   ]
  },
  {
   "cell_type": "code",
   "execution_count": null,
   "metadata": {},
   "outputs": [],
   "source": []
  }
 ],
 "metadata": {
  "kernelspec": {
   "display_name": "Python 3",
   "language": "python",
   "name": "python3"
  },
  "language_info": {
   "codemirror_mode": {
    "name": "ipython",
    "version": 3
   },
   "file_extension": ".py",
   "mimetype": "text/x-python",
   "name": "python",
   "nbconvert_exporter": "python",
   "pygments_lexer": "ipython3",
   "version": "3.7.0"
  }
 },
 "nbformat": 4,
 "nbformat_minor": 2
}
